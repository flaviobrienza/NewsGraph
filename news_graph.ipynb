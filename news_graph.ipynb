{
 "cells": [
  {
   "cell_type": "markdown",
   "metadata": {},
   "source": [
    "# News Hierarchical Graph  \n",
    "\n",
    "A hierarchical graph to find information and write an article with their content.  \n",
    "In particular, this use case will be focused on a specific topic, the 2024 State of the Union.  \n",
    "The final goal is to retrieve specific information about the speech, implementing them with some internet search.   \n",
    "\n",
    "Based on: https://github.com/langchain-ai/langgraph/blob/main/examples/multi_agent/hierarchical_agent_teams.ipynb\n",
    "\n",
    "## Teams' Composition  \n",
    "\n",
    "**Research Team** --> Web search, RAG  \n",
    "**Writing Team** --> Article Writer, Notes Writer \n",
    "\n",
    "All the work will be supervised by a \"Supervisor\" node. "
   ]
  },
  {
   "cell_type": "markdown",
   "metadata": {},
   "source": [
    "## Importing Libraries"
   ]
  },
  {
   "cell_type": "code",
   "execution_count": 1,
   "metadata": {},
   "outputs": [],
   "source": [
    "from langgraph.graph import StateGraph, END \n",
    "from langchain_community.tools.tavily_search import TavilySearchResults \n",
    "from typing import TypedDict, Annotated, Sequence, List\n",
    "import functools \n",
    "import operator \n",
    "import os \n",
    "from langchain.agents.tools import tool \n",
    "from langchain.agents import create_openai_tools_agent, AgentExecutor \n",
    "from langchain_core.messages import HumanMessage, BaseMessage \n",
    "from langchain_openai.chat_models import ChatOpenAI \n",
    "from langchain.prompts import MessagesPlaceholder, ChatPromptTemplate \n",
    "from langchain_community.vectorstores.chroma import Chroma \n",
    "from langchain_openai.embeddings import OpenAIEmbeddings \n",
    "from langchain.text_splitter import RecursiveCharacterTextSplitter \n",
    "from langchain_community.document_loaders import TextLoader\n",
    "from langchain_core.output_parsers import StrOutputParser\n",
    "\n",
    "from secret_api_key import openaikey \n",
    "from tavily import tavilykey \n",
    "from langchain_key import langchainkey\n",
    "\n",
    "os.environ['LANGCHAIN_TRACING_V2']='true'\n",
    "os.environ['LANGCHAIN_ENDPOINT']=\"https://api.smith.langchain.com\"\n",
    "os.environ['LANGCHAIN_API_KEY']=langchainkey\n",
    "os.environ['LANGCHAIN_PROJECT']=\"Hierarchical Graph\" \n",
    "\n",
    "os.environ['OPENAI_API_KEY'] = openaikey \n",
    "os.environ['TAVILY_API_KEY'] = tavilykey "
   ]
  },
  {
   "cell_type": "markdown",
   "metadata": {},
   "source": [
    "## Writing Functions  \n",
    "\n",
    "These functions will be needed for different purposes over the project, such as: creating agents; executing agents; ... "
   ]
  },
  {
   "cell_type": "code",
   "execution_count": 2,
   "metadata": {},
   "outputs": [],
   "source": [
    "def create_agent(llm: ChatOpenAI, system_prompt: str, tools: list):\n",
    "    prompt = ChatPromptTemplate.from_messages([\n",
    "        ('system', system_prompt),\n",
    "        MessagesPlaceholder(variable_name='messages'), \n",
    "        MessagesPlaceholder(variable_name='agent_scratchpad') \n",
    "    ])\n",
    "    agent = create_openai_tools_agent(\n",
    "        llm=llm,\n",
    "        prompt=prompt,\n",
    "        tools=tools\n",
    "    )\n",
    "    agent_executor = AgentExecutor.from_agent_and_tools(agent=agent, tools=tools) \n",
    "    return agent_executor \n",
    "\n",
    "def execute_agent(messages: list, agent):\n",
    "    answer = agent.invoke(messages) \n",
    "    return {'messages': [HumanMessage(content=answer['output'])]}   \n",
    "\n",
    "def create_supervisor(llm: ChatOpenAI, members: list, system_prompt: str):\n",
    "    options = ['FINISH'] + members \n",
    "    prompt = ChatPromptTemplate.from_messages([\n",
    "        ('system', system_prompt),\n",
    "        MessagesPlaceholder(variable_name='messages'), \n",
    "        ('system', '''Based on the conversation above, who should act next? Or is it enough to finish? Select one of: {options}''')\n",
    "    ]).partial(options=str(options)) # when using partial it is even possible to add variables not included in the prompt\n",
    "    return prompt | llm | {'next_node':StrOutputParser()}\n",
    "\n",
    "def simple_chains(state, chain):\n",
    "    response = chain.invoke(state).content \n",
    "    return {'messages':[HumanMessage(content=response)]}\n",
    "    "
   ]
  },
  {
   "cell_type": "markdown",
   "metadata": {},
   "source": [
    "## Vector DB  \n",
    "\n",
    "This will be used for the RAG process."
   ]
  },
  {
   "cell_type": "code",
   "execution_count": null,
   "metadata": {},
   "outputs": [],
   "source": [
    "# Creating the vector DB \n",
    "splitter = RecursiveCharacterTextSplitter(separators=['\\n\\n', '\\n'], chunk_size=1000, chunk_overlap=10) \n",
    "sotu = TextLoader('./sotu.txt', encoding='utf-8').load_and_split(splitter) \n",
    "embedding_model = OpenAIEmbeddings() \n",
    "vector_db = Chroma.from_documents(documents=sotu, embedding=embedding_model, persist_directory='.') "
   ]
  },
  {
   "cell_type": "code",
   "execution_count": 3,
   "metadata": {},
   "outputs": [],
   "source": [
    "# Loading the vector db \n",
    "embedding_model = OpenAIEmbeddings() \n",
    "vector_db = Chroma(persist_directory='./RAG_LangGraph', embedding_function=embedding_model)"
   ]
  },
  {
   "cell_type": "markdown",
   "metadata": {},
   "source": [
    "## Writing Tools  \n",
    "\n",
    "Tools used by the agents."
   ]
  },
  {
   "cell_type": "code",
   "execution_count": 4,
   "metadata": {},
   "outputs": [],
   "source": [
    "# RAG tool\n",
    "@tool('Retriever', return_direct=False)\n",
    "def retriever_system(query):\n",
    "    '''Used to find information over a vector DB containing the 2024 State of the Union'''\n",
    "    response = vector_db.similarity_search(query) \n",
    "    return response \n",
    "\n",
    "# Search tool \n",
    "tavily_tool = TavilySearchResults()  \n",
    "\n",
    "# Model \n",
    "llm = ChatOpenAI(temperature=0)"
   ]
  },
  {
   "cell_type": "markdown",
   "metadata": {},
   "source": [
    "## Research Team  \n",
    "\n",
    "In this section the research team and its supervisor will be created."
   ]
  },
  {
   "cell_type": "code",
   "execution_count": 5,
   "metadata": {},
   "outputs": [],
   "source": [
    "# Retriever agent \n",
    "retriever_agent = create_agent(\n",
    "    llm=llm, \n",
    "    system_prompt='''You are an agent used to search information in a vector DB containing the US President State of the Union 2024. \n",
    "    Based on the user's query search for the necessary information.''',\n",
    "    tools=[retriever_system] \n",
    ")  \n",
    "\n",
    "# Web Search agent  \n",
    "web_searcher = create_agent(\n",
    "    llm=llm, \n",
    "    system_prompt='''You are an agent used to retrieve information over the internet about a given topic.''',\n",
    "    tools=[tavily_tool]\n",
    ") \n",
    "\n",
    "# Supervisor \n",
    "research_supervisor = create_supervisor(\n",
    "    llm=llm,\n",
    "    members=['Retriever', 'Web Searcher'], \n",
    "    system_prompt='''You are a chatbot supervisor of a research team that finds information to write news. \n",
    "    These are the members: Retriever, Web Searcher.\n",
    "    The Retriever has access to the 2024 State of the Union speech. It is useful when the information on the internet are poor.\n",
    "    On the other hand, Web Searcher is useful to expand knowledge of a given topic.\n",
    "    Given the below conversation, choose who should act next. Each worker will return its results. \n",
    "    When the answer is complete, return FINISH.'''\n",
    ")  "
   ]
  },
  {
   "cell_type": "markdown",
   "metadata": {},
   "source": [
    "## Research Graph   \n",
    "\n",
    "Creating the first research graph."
   ]
  },
  {
   "cell_type": "code",
   "execution_count": 6,
   "metadata": {},
   "outputs": [],
   "source": [
    "class ResearchState(TypedDict):\n",
    "    messages: Annotated[Sequence[BaseMessage], operator.add]\n",
    "    next_node: str\n",
    "\n",
    "research_workflow = StateGraph(ResearchState) \n",
    "\n",
    "research_workflow.add_node('Retriever', functools.partial(execute_agent, agent=retriever_agent)) \n",
    "research_workflow.add_node('Web Searcher', functools.partial(execute_agent, agent=web_searcher))\n",
    "research_workflow.add_node('Research Supervisor', research_supervisor) \n",
    "\n",
    "research_workflow.add_edge('Retriever', 'Research Supervisor')\n",
    "research_workflow.add_edge('Web Searcher', 'Research Supervisor') \n",
    "\n",
    "research_workflow.add_conditional_edges(\n",
    "    'Research Supervisor', \n",
    "    lambda x: x['next_node'],\n",
    "    {'Retriever':'Retriever', 'Web Searcher':'Web Searcher', 'FINISH':END}\n",
    ") \n",
    "\n",
    "research_workflow.set_entry_point('Research Supervisor')\n",
    "\n",
    "research_graph = research_workflow.compile()"
   ]
  },
  {
   "cell_type": "markdown",
   "metadata": {},
   "source": [
    "Now, it is necessary to create different functions to separate the messages from different graphs and to avoid reaching maximum context length."
   ]
  },
  {
   "cell_type": "code",
   "execution_count": 7,
   "metadata": {},
   "outputs": [],
   "source": [
    "# This is the function that activates a graph \n",
    "def enter_chain(message: str):\n",
    "    results = {\n",
    "        \"messages\": [HumanMessage(content=message)],\n",
    "    }\n",
    "    return results \n",
    "\n",
    "# This is the function that gets the last message from the state \n",
    "def last_message(state):\n",
    "    return state['messages'][-1].content \n",
    "\n",
    "# This is the function that takes the response from the previous chain and makes the graphs join possible \n",
    "def final_graph_response(graph_response):\n",
    "    return {'messages':[graph_response['messages'][-1]]}"
   ]
  },
  {
   "cell_type": "markdown",
   "metadata": {},
   "source": [
    "## Writing Team"
   ]
  },
  {
   "cell_type": "markdown",
   "metadata": {},
   "source": [
    "### Article Writer  \n",
    "\n",
    "In this case a simple chain with a custom prompt is enough."
   ]
  },
  {
   "cell_type": "code",
   "execution_count": 8,
   "metadata": {},
   "outputs": [],
   "source": [
    "writer_prompt = ChatPromptTemplate.from_messages([\n",
    "    ('system', '''You are a chatbot that writes newspaper articles based on the information provided in the conversation below.'''),  \n",
    "    MessagesPlaceholder(variable_name='messages')\n",
    "]) \n",
    "\n",
    "writer_chain = writer_prompt | llm  "
   ]
  },
  {
   "cell_type": "markdown",
   "metadata": {},
   "source": [
    "### Notes Chain  \n",
    "\n",
    "Even in this case, a simple chain is enough. "
   ]
  },
  {
   "cell_type": "code",
   "execution_count": 9,
   "metadata": {},
   "outputs": [],
   "source": [
    "note_prompt = ChatPromptTemplate.from_messages([\n",
    "    ('system', '''You are an expert researcher able to extrapolate the most important information from a text and writes an outline for it.\n",
    "    Do it for the below conversation.'''), \n",
    "    MessagesPlaceholder(variable_name='messages') \n",
    "])\n",
    "\n",
    "notes_chain = note_prompt | llm "
   ]
  },
  {
   "cell_type": "markdown",
   "metadata": {},
   "source": [
    "### Writing Supervisor"
   ]
  },
  {
   "cell_type": "code",
   "execution_count": 10,
   "metadata": {},
   "outputs": [],
   "source": [
    "writing_supervisor = create_supervisor(llm, ['Notes Writer', 'Writer Reporter'], \n",
    "                  '''You are a supervisor of a newspaper writing team.\n",
    "                  These are the members: Notes Writer, Writer Reporter.\n",
    "                  Notes Writer underlines the most important elements of a given text. \n",
    "                  Writer Reporter writes an article about the found information.\n",
    "                  Given the below conversation, choose who should act next. Each worker will return its results. \n",
    "                  When the answer is complete, return FINISH.''') "
   ]
  },
  {
   "cell_type": "markdown",
   "metadata": {},
   "source": [
    "## Writing Graph"
   ]
  },
  {
   "cell_type": "code",
   "execution_count": 11,
   "metadata": {},
   "outputs": [],
   "source": [
    "class WritingState(TypedDict):\n",
    "    messages: Annotated[Sequence[BaseMessage], operator.add]\n",
    "    next_node: str\n",
    "\n",
    "writing_workflow = StateGraph(WritingState) \n",
    "\n",
    "writing_workflow.add_node('Writer Reporter', functools.partial(simple_chains, chain=writer_chain)) \n",
    "writing_workflow.add_node('Notes Writer', functools.partial(simple_chains, chain=notes_chain))\n",
    "writing_workflow.add_node('Writing Supervisor', writing_supervisor) \n",
    "\n",
    "writing_workflow.add_edge('Writer Reporter', 'Writing Supervisor')\n",
    "writing_workflow.add_edge('Notes Writer', 'Writing Supervisor') \n",
    "\n",
    "writing_workflow.add_conditional_edges(\n",
    "    'Writing Supervisor', \n",
    "    lambda x: x['next_node'],\n",
    "    {'Writer Reporter':'Writer Reporter', 'Notes Writer':'Notes Writer', 'FINISH':END}\n",
    ") \n",
    "\n",
    "writing_workflow.set_entry_point('Writing Supervisor')\n",
    "\n",
    "writing_graph = writing_workflow.compile()"
   ]
  },
  {
   "cell_type": "markdown",
   "metadata": {},
   "source": [
    "## Final Graph  \n",
    "\n",
    "Now the two graphs will be joined. "
   ]
  },
  {
   "cell_type": "code",
   "execution_count": 12,
   "metadata": {},
   "outputs": [],
   "source": [
    "final_graph_supervisor = create_supervisor(\n",
    "    llm, \n",
    "    members=['Research Team', 'Writing Team'], \n",
    "    system_prompt='''You are the supervisor of two distinct teams.\n",
    "    These are: Writing Team, Research Team. \n",
    "    The Research Team is responsible for searching information over the web, while the Writing Team writes the article about the information found.\n",
    "    Given the below conversation, choose who should act next. Each worker will return its results. \n",
    "    When the answer is complete, return FINISH.'''\n",
    ")"
   ]
  },
  {
   "cell_type": "markdown",
   "metadata": {},
   "source": [
    "Now, two chains, one for each team, will be created."
   ]
  },
  {
   "cell_type": "code",
   "execution_count": 13,
   "metadata": {},
   "outputs": [],
   "source": [
    "research_chain = enter_chain | research_graph \n",
    "writing_chain = enter_chain | writing_graph"
   ]
  },
  {
   "cell_type": "code",
   "execution_count": 14,
   "metadata": {},
   "outputs": [],
   "source": [
    "class FinalGraph(TypedDict):\n",
    "    messages: Annotated[Sequence[BaseMessage], operator.add] \n",
    "    next_node: str \n",
    "\n",
    "final_workflow = StateGraph(FinalGraph) \n",
    "\n",
    "final_workflow.add_node('Research Team', last_message | research_chain | final_graph_response)\n",
    "final_workflow.add_node('Writing Team', last_message | writing_chain | final_graph_response) \n",
    "final_workflow.add_node('Final Supervisor', final_graph_supervisor) \n",
    "\n",
    "final_workflow.add_edge('Research Team', 'Final Supervisor')\n",
    "final_workflow.add_edge('Writing Team', 'Final Supervisor') \n",
    "\n",
    "final_workflow.add_conditional_edges(\n",
    "    'Final Supervisor', \n",
    "    lambda x: x['next_node'], \n",
    "    {'Writing Team':'Writing Team', 'Research Team':'Research Team', 'FINISH':END}\n",
    ") \n",
    "\n",
    "final_workflow.set_entry_point('Final Supervisor') \n",
    "\n",
    "final_graph = final_workflow.compile()"
   ]
  },
  {
   "cell_type": "code",
   "execution_count": 16,
   "metadata": {},
   "outputs": [
    {
     "name": "stdout",
     "output_type": "stream",
     "text": [
      "{'Final Supervisor': {'next_node': 'Research Team'}}\n",
      "------------------------------\n",
      "{'Research Team': {'messages': [HumanMessage(content='In the State of the Union 2024, President Biden mentioned NATO as a military alliance of democratic nations created after World War Two to prevent war and keep the peace. He highlighted that America is a founding member of NATO and emphasized that NATO has been made stronger than ever. President Biden welcomed Finland to the Alliance the previous year and mentioned that Sweden officially joined NATO on the same day as the State of the Union address.\\n\\nPresident Biden mentioned NATO in the context of strengthening the military alliance and expanding its membership to enhance global security and stability. The mention of NATO was likely to emphasize the importance of collective defense and cooperation among democratic nations in the face of global challenges and threats.')]}}\n",
      "------------------------------\n",
      "{'Final Supervisor': {'next_node': 'Writing Team'}}\n",
      "------------------------------\n",
      "{'Writing Team': {'messages': [HumanMessage(content=\"Title: President Biden Emphasizes NATO's Strength and Expansion in State of the Union Address\\n\\nIn his State of the Union address for 2024, President Biden highlighted the significance of NATO as a military alliance of democratic nations established after World War Two to maintain peace and prevent conflicts. The President underscored America's role as a founding member of NATO and emphasized the alliance's increased strength under current circumstances.\\n\\nPresident Biden welcomed Finland to NATO in the previous year and announced that Sweden had officially joined the Alliance on the same day as his State of the Union address. The expansion of NATO's membership was seen as a strategic move to bolster global security and stability by fostering collective defense and cooperation among democratic nations.\\n\\nThe mention of NATO in President Biden's address aimed to underscore the importance of strengthening the military alliance and expanding its reach to address contemporary global challenges and threats. By emphasizing the role of NATO in promoting peace and security, the President signaled a commitment to enhancing international cooperation and solidarity in the face of evolving geopolitical dynamics.\")]}}\n",
      "------------------------------\n",
      "{'Final Supervisor': {'next_node': 'FINISH'}}\n",
      "------------------------------\n",
      "{'__end__': {'messages': [HumanMessage(content='What did Biden say about NATO in the State of the Union 2024? \\n                                                      Why did he mention it?'), HumanMessage(content='In the State of the Union 2024, President Biden mentioned NATO as a military alliance of democratic nations created after World War Two to prevent war and keep the peace. He highlighted that America is a founding member of NATO and emphasized that NATO has been made stronger than ever. President Biden welcomed Finland to the Alliance the previous year and mentioned that Sweden officially joined NATO on the same day as the State of the Union address.\\n\\nPresident Biden mentioned NATO in the context of strengthening the military alliance and expanding its membership to enhance global security and stability. The mention of NATO was likely to emphasize the importance of collective defense and cooperation among democratic nations in the face of global challenges and threats.'), HumanMessage(content=\"Title: President Biden Emphasizes NATO's Strength and Expansion in State of the Union Address\\n\\nIn his State of the Union address for 2024, President Biden highlighted the significance of NATO as a military alliance of democratic nations established after World War Two to maintain peace and prevent conflicts. The President underscored America's role as a founding member of NATO and emphasized the alliance's increased strength under current circumstances.\\n\\nPresident Biden welcomed Finland to NATO in the previous year and announced that Sweden had officially joined the Alliance on the same day as his State of the Union address. The expansion of NATO's membership was seen as a strategic move to bolster global security and stability by fostering collective defense and cooperation among democratic nations.\\n\\nThe mention of NATO in President Biden's address aimed to underscore the importance of strengthening the military alliance and expanding its reach to address contemporary global challenges and threats. By emphasizing the role of NATO in promoting peace and security, the President signaled a commitment to enhancing international cooperation and solidarity in the face of evolving geopolitical dynamics.\")], 'next_node': 'FINISH'}}\n",
      "------------------------------\n"
     ]
    }
   ],
   "source": [
    "for s in final_graph.stream({'messages':[HumanMessage(content='''What did Biden say about NATO in the State of the Union 2024? \n",
    "                                                      Why did he mention it?''')]}, \n",
    "                            {'recursion_limit':100}):\n",
    "    print(s)\n",
    "    print('-'*30)"
   ]
  },
  {
   "cell_type": "code",
   "execution_count": 17,
   "metadata": {},
   "outputs": [],
   "source": [
    "response = final_graph.invoke({'messages':[HumanMessage(content='''What did Biden say about NATO in the State of the Union 2024? \n",
    "                                                      Why did he mention it?''')]})"
   ]
  },
  {
   "cell_type": "code",
   "execution_count": 18,
   "metadata": {},
   "outputs": [
    {
     "name": "stdout",
     "output_type": "stream",
     "text": [
      "**President Biden Highlights NATO's Role in Ensuring Global Peace and Security in State of the Union Address**\n",
      "\n",
      "In his State of the Union 2024 address, President Biden underscored the importance of NATO as a military alliance of democratic nations that was established after World War Two to prevent conflict and maintain peace. The President emphasized America's pivotal role as a founding member of NATO, highlighting the country's commitment to the alliance's objectives.\n",
      "\n",
      "Under Biden's administration, efforts to strengthen NATO have been a key focus, with the President stating that NATO is now stronger than ever. This commitment to enhancing NATO's capabilities was further demonstrated by the inclusion of Finland as a new member of the Alliance, with Sweden also officially joining on the same day as the State of the Union address.\n",
      "\n",
      "The mention of NATO in President Biden's address served to showcase the unity and collaboration among democratic nations in working towards a common goal of ensuring global peace and security. By welcoming new members like Finland and Sweden, NATO continues to expand its reach and influence in promoting stability and cooperation on the international stage.\n",
      "\n",
      "In conclusion, President Biden's recognition of NATO's significance in his State of the Union address reaffirms the alliance's crucial role in fostering unity among nations and upholding peace and security in an increasingly complex world.\n"
     ]
    }
   ],
   "source": [
    "print(response['messages'][-1].content)"
   ]
  }
 ],
 "metadata": {
  "kernelspec": {
   "display_name": "Python 3",
   "language": "python",
   "name": "python3"
  },
  "language_info": {
   "codemirror_mode": {
    "name": "ipython",
    "version": 3
   },
   "file_extension": ".py",
   "mimetype": "text/x-python",
   "name": "python",
   "nbconvert_exporter": "python",
   "pygments_lexer": "ipython3",
   "version": "3.10.2"
  }
 },
 "nbformat": 4,
 "nbformat_minor": 2
}
